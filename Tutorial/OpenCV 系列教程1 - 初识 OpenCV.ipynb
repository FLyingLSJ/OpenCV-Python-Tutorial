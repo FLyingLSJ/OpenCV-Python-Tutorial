{
 "cells": [
  {
   "cell_type": "markdown",
   "metadata": {},
   "source": [
    "#### OpenCV 四个核心组件\n",
    "\n",
    "core、HighGUI、improc、feature2d \n",
    "\n",
    "#### 基本概念\n",
    "\n",
    "图像处理(image processing)：使用计算机对图像进行分析，以达到所需结果的技术，亦称影像处理。包括图像压缩，增强和复原，匹配、描述和识别。侧重“处理图像”\n",
    "\n",
    "计算机视觉(computer vision)：让计算机有“人眼”的功能。模拟是计算机视觉领域的最终目标。\n",
    "\n",
    "OpenCV：开源的库( Intel )，可以实现图像处理和计算机视觉的大部分的算法。应用领域：工厂产品检测、医学成像、信息安全、用户界面、摄像机标定、立体视觉和机器人。\n",
    "\n",
    "#### 学习资源\n",
    "\n",
    "[OpenCV 官方主页](https://opencv.org/)\n",
    "\n",
    "[OpenCV Github 主页](https://github.com/opencv)\n",
    "\n",
    "[OpenCV Python 教程](https://opencv-python-tutroals.readthedocs.io/en/latest/py_tutorials/py_tutorials.html)\n",
    "\n",
    "#### 安装 Python + OpenCV\n",
    "\n",
    "Anconda 环境下的 Python 安装 OpenCV 包。\n",
    "\n",
    "#### 在 Linux 上构建环境\n",
    "\n",
    "当前还未涉及，主要要让程序跑在服务器上。\n"
   ]
  }
 ],
 "metadata": {
  "hide_input": false,
  "kernelspec": {
   "display_name": "Python 3",
   "language": "python",
   "name": "python3"
  },
  "language_info": {
   "codemirror_mode": {
    "name": "ipython",
    "version": 3
   },
   "file_extension": ".py",
   "mimetype": "text/x-python",
   "name": "python",
   "nbconvert_exporter": "python",
   "pygments_lexer": "ipython3",
   "version": "3.6.6"
  },
  "toc": {
   "base_numbering": 1,
   "nav_menu": {},
   "number_sections": true,
   "sideBar": true,
   "skip_h1_title": false,
   "title_cell": "Table of Contents",
   "title_sidebar": "Contents",
   "toc_cell": false,
   "toc_position": {},
   "toc_section_display": true,
   "toc_window_display": false
  },
  "varInspector": {
   "cols": {
    "lenName": 16,
    "lenType": 16,
    "lenVar": 40
   },
   "kernels_config": {
    "python": {
     "delete_cmd_postfix": "",
     "delete_cmd_prefix": "del ",
     "library": "var_list.py",
     "varRefreshCmd": "print(var_dic_list())"
    },
    "r": {
     "delete_cmd_postfix": ") ",
     "delete_cmd_prefix": "rm(",
     "library": "var_list.r",
     "varRefreshCmd": "cat(var_dic_list()) "
    }
   },
   "types_to_exclude": [
    "module",
    "function",
    "builtin_function_or_method",
    "instance",
    "_Feature"
   ],
   "window_display": false
  }
 },
 "nbformat": 4,
 "nbformat_minor": 2
}
